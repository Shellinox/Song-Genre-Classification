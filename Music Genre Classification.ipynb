{
 "cells": [
  {
   "cell_type": "code",
   "execution_count": 207,
   "id": "741b43fc-65e2-49d9-902a-5474fde32df1",
   "metadata": {},
   "outputs": [],
   "source": [
    "import pandas as pd\n",
    "import numpy as np\n",
    "from sklearn.model_selection import train_test_split\n",
    "from sklearn.ensemble import RandomForestClassifier\n",
    "from sklearn.preprocessing import LabelEncoder\n",
    "from sklearn.metrics import roc_auc_score"
   ]
  },
  {
   "cell_type": "code",
   "execution_count": 185,
   "id": "0b1c9d1d-761d-48c5-b9be-2f29bf9c63eb",
   "metadata": {},
   "outputs": [],
   "source": [
    "df=pd.read_csv('Spotify data.csv')"
   ]
  },
  {
   "cell_type": "code",
   "execution_count": 186,
   "id": "15f77682-67b1-4e96-9b96-1a0a7e604ea5",
   "metadata": {},
   "outputs": [
    {
     "data": {
      "text/plain": [
       "(114000, 21)"
      ]
     },
     "execution_count": 186,
     "metadata": {},
     "output_type": "execute_result"
    }
   ],
   "source": [
    "df.shape"
   ]
  },
  {
   "cell_type": "code",
   "execution_count": 204,
   "id": "8f0c1e26-e7c7-4435-ab2a-694cb7108355",
   "metadata": {},
   "outputs": [
    {
     "data": {
      "text/html": [
       "<div>\n",
       "<style scoped>\n",
       "    .dataframe tbody tr th:only-of-type {\n",
       "        vertical-align: middle;\n",
       "    }\n",
       "\n",
       "    .dataframe tbody tr th {\n",
       "        vertical-align: top;\n",
       "    }\n",
       "\n",
       "    .dataframe thead th {\n",
       "        text-align: right;\n",
       "    }\n",
       "</style>\n",
       "<table border=\"1\" class=\"dataframe\">\n",
       "  <thead>\n",
       "    <tr style=\"text-align: right;\">\n",
       "      <th></th>\n",
       "      <th>danceability</th>\n",
       "      <th>energy</th>\n",
       "      <th>loudness</th>\n",
       "      <th>speechiness</th>\n",
       "      <th>acousticness</th>\n",
       "      <th>instrumentalness</th>\n",
       "      <th>liveness</th>\n",
       "      <th>valence</th>\n",
       "      <th>tempo</th>\n",
       "      <th>genre</th>\n",
       "    </tr>\n",
       "  </thead>\n",
       "  <tbody>\n",
       "    <tr>\n",
       "      <th>16000</th>\n",
       "      <td>0.643</td>\n",
       "      <td>0.268</td>\n",
       "      <td>-15.073</td>\n",
       "      <td>0.0900</td>\n",
       "      <td>0.593</td>\n",
       "      <td>0.000002</td>\n",
       "      <td>0.316</td>\n",
       "      <td>0.620</td>\n",
       "      <td>143.813</td>\n",
       "      <td>classical</td>\n",
       "    </tr>\n",
       "    <tr>\n",
       "      <th>16001</th>\n",
       "      <td>0.484</td>\n",
       "      <td>0.898</td>\n",
       "      <td>-4.132</td>\n",
       "      <td>0.1640</td>\n",
       "      <td>0.365</td>\n",
       "      <td>0.000000</td>\n",
       "      <td>0.091</td>\n",
       "      <td>0.680</td>\n",
       "      <td>91.975</td>\n",
       "      <td>classical</td>\n",
       "    </tr>\n",
       "    <tr>\n",
       "      <th>16002</th>\n",
       "      <td>0.608</td>\n",
       "      <td>0.638</td>\n",
       "      <td>-6.008</td>\n",
       "      <td>0.0292</td>\n",
       "      <td>0.581</td>\n",
       "      <td>0.017200</td>\n",
       "      <td>0.448</td>\n",
       "      <td>0.439</td>\n",
       "      <td>140.109</td>\n",
       "      <td>classical</td>\n",
       "    </tr>\n",
       "    <tr>\n",
       "      <th>16003</th>\n",
       "      <td>0.695</td>\n",
       "      <td>0.293</td>\n",
       "      <td>-16.278</td>\n",
       "      <td>0.0431</td>\n",
       "      <td>0.596</td>\n",
       "      <td>0.015800</td>\n",
       "      <td>0.132</td>\n",
       "      <td>0.637</td>\n",
       "      <td>143.804</td>\n",
       "      <td>classical</td>\n",
       "    </tr>\n",
       "    <tr>\n",
       "      <th>16004</th>\n",
       "      <td>0.583</td>\n",
       "      <td>0.308</td>\n",
       "      <td>-18.303</td>\n",
       "      <td>0.0465</td>\n",
       "      <td>0.581</td>\n",
       "      <td>0.010600</td>\n",
       "      <td>0.257</td>\n",
       "      <td>0.241</td>\n",
       "      <td>118.226</td>\n",
       "      <td>classical</td>\n",
       "    </tr>\n",
       "  </tbody>\n",
       "</table>\n",
       "</div>"
      ],
      "text/plain": [
       "       danceability  energy  loudness  speechiness  acousticness  \\\n",
       "16000         0.643   0.268   -15.073       0.0900         0.593   \n",
       "16001         0.484   0.898    -4.132       0.1640         0.365   \n",
       "16002         0.608   0.638    -6.008       0.0292         0.581   \n",
       "16003         0.695   0.293   -16.278       0.0431         0.596   \n",
       "16004         0.583   0.308   -18.303       0.0465         0.581   \n",
       "\n",
       "       instrumentalness  liveness  valence    tempo      genre  \n",
       "16000          0.000002     0.316    0.620  143.813  classical  \n",
       "16001          0.000000     0.091    0.680   91.975  classical  \n",
       "16002          0.017200     0.448    0.439  140.109  classical  \n",
       "16003          0.015800     0.132    0.637  143.804  classical  \n",
       "16004          0.010600     0.257    0.241  118.226  classical  "
      ]
     },
     "execution_count": 204,
     "metadata": {},
     "output_type": "execute_result"
    }
   ],
   "source": [
    "df.head()"
   ]
  },
  {
   "cell_type": "code",
   "execution_count": 188,
   "id": "de040479-7249-4e30-8c23-a0e6fbb25097",
   "metadata": {},
   "outputs": [],
   "source": [
    "df=df.drop(['Unnamed: 0','track_id','artists','album_name','track_name','popularity','time_signature','duration_ms','explicit','key','mode'],axis=1)"
   ]
  },
  {
   "cell_type": "code",
   "execution_count": 189,
   "id": "288baadb-424f-41c6-9c55-db8717c26218",
   "metadata": {},
   "outputs": [],
   "source": [
    "df.rename(columns={'track_genre':'genre'},inplace=True)"
   ]
  },
  {
   "cell_type": "code",
   "execution_count": 190,
   "id": "84726ff8-a086-452c-8e88-72a006200c5b",
   "metadata": {},
   "outputs": [
    {
     "data": {
      "text/plain": [
       "array(['acoustic', 'afrobeat', 'alt-rock', 'alternative', 'ambient',\n",
       "       'anime', 'black-metal', 'bluegrass', 'blues', 'brazil',\n",
       "       'breakbeat', 'british', 'cantopop', 'chicago-house', 'children',\n",
       "       'chill', 'classical', 'club', 'comedy', 'country', 'dance',\n",
       "       'dancehall', 'death-metal', 'deep-house', 'detroit-techno',\n",
       "       'disco', 'disney', 'drum-and-bass', 'dub', 'dubstep', 'edm',\n",
       "       'electro', 'electronic', 'emo', 'folk', 'forro', 'french', 'funk',\n",
       "       'garage', 'german', 'gospel', 'goth', 'grindcore', 'groove',\n",
       "       'grunge', 'guitar', 'happy', 'hard-rock', 'hardcore', 'hardstyle',\n",
       "       'heavy-metal', 'hip-hop', 'honky-tonk', 'house', 'idm', 'indian',\n",
       "       'indie-pop', 'indie', 'industrial', 'iranian', 'j-dance', 'j-idol',\n",
       "       'j-pop', 'j-rock', 'jazz', 'k-pop', 'kids', 'latin', 'latino',\n",
       "       'malay', 'mandopop', 'metal', 'metalcore', 'minimal-techno', 'mpb',\n",
       "       'new-age', 'opera', 'pagode', 'party', 'piano', 'pop-film', 'pop',\n",
       "       'power-pop', 'progressive-house', 'psych-rock', 'punk-rock',\n",
       "       'punk', 'r-n-b', 'reggae', 'reggaeton', 'rock-n-roll', 'rock',\n",
       "       'rockabilly', 'romance', 'sad', 'salsa', 'samba', 'sertanejo',\n",
       "       'show-tunes', 'singer-songwriter', 'ska', 'sleep', 'songwriter',\n",
       "       'soul', 'spanish', 'study', 'swedish', 'synth-pop', 'tango',\n",
       "       'techno', 'trance', 'trip-hop', 'turkish', 'world-music'],\n",
       "      dtype=object)"
      ]
     },
     "execution_count": 190,
     "metadata": {},
     "output_type": "execute_result"
    }
   ],
   "source": [
    "df['genre'].unique()"
   ]
  },
  {
   "cell_type": "code",
   "execution_count": 191,
   "id": "359cfda5-be1d-4bd3-b460-1cdf6cb2a59b",
   "metadata": {},
   "outputs": [],
   "source": [
    "drop_genres = ['acoustic','alternative','afrobeat','alt-rock','ambient','anime','black-metal','bluegrass','blues','brazil','breakbeat','british','cantopop','chicago-house','children','chill','club','comedy','dancehall','death-metal','deep-house','detroit-techno','disney','drum-and-bass','dub','dubstep','edm','electro','emo','folk','forro','french','funk','garage','german','gospel','goth','grindcore','groove','grunge','guitar','happy','hard-rock','hardcore','hardstyle','heavy-metal','honky-tonk','idm','indian','indie-pop','indie','industrial','iranian','j-dance','j-idol','j-pop','j-rock','k-pop','kids','latin','latino','malay','mandopop','metalcore','minimal-techno','mpb','new-age','opera','pagode','party','piano','pop-film','power-pop','progressive-house','psych-rock','punk-rock','punk','reggae','reggaeton','rock-n-roll','rockabilly','romance','sad','salsa','samba','sertanejo','show-tunes','singer-songwriter','ska','sleep','songwriter','soul','spanish','study','swedish','synth-pop','tango','techno','trance','trip-hop','turkish','world-music']"
   ]
  },
  {
   "cell_type": "code",
   "execution_count": 192,
   "id": "ac4e7078-f607-4b15-95bd-3ea6fb4833c6",
   "metadata": {},
   "outputs": [],
   "source": [
    "df.drop(df[df['genre'].isin(drop_genres)].index,inplace=True)"
   ]
  },
  {
   "cell_type": "code",
   "execution_count": 225,
   "id": "2096bf0c-07ea-46a4-ad68-f54104987b3d",
   "metadata": {},
   "outputs": [
    {
     "data": {
      "text/html": [
       "<div>\n",
       "<style scoped>\n",
       "    .dataframe tbody tr th:only-of-type {\n",
       "        vertical-align: middle;\n",
       "    }\n",
       "\n",
       "    .dataframe tbody tr th {\n",
       "        vertical-align: top;\n",
       "    }\n",
       "\n",
       "    .dataframe thead th {\n",
       "        text-align: right;\n",
       "    }\n",
       "</style>\n",
       "<table border=\"1\" class=\"dataframe\">\n",
       "  <thead>\n",
       "    <tr style=\"text-align: right;\">\n",
       "      <th></th>\n",
       "      <th>danceability</th>\n",
       "      <th>energy</th>\n",
       "      <th>loudness</th>\n",
       "      <th>speechiness</th>\n",
       "      <th>acousticness</th>\n",
       "      <th>instrumentalness</th>\n",
       "      <th>liveness</th>\n",
       "      <th>valence</th>\n",
       "      <th>tempo</th>\n",
       "      <th>genre</th>\n",
       "    </tr>\n",
       "  </thead>\n",
       "  <tbody>\n",
       "    <tr>\n",
       "      <th>91995</th>\n",
       "      <td>0.44</td>\n",
       "      <td>0.838</td>\n",
       "      <td>-6.196</td>\n",
       "      <td>0.0423</td>\n",
       "      <td>0.0956</td>\n",
       "      <td>0.0</td>\n",
       "      <td>0.473</td>\n",
       "      <td>0.619</td>\n",
       "      <td>138.908</td>\n",
       "      <td>rock</td>\n",
       "    </tr>\n",
       "    <tr>\n",
       "      <th>91996</th>\n",
       "      <td>0.44</td>\n",
       "      <td>0.838</td>\n",
       "      <td>-6.196</td>\n",
       "      <td>0.0423</td>\n",
       "      <td>0.0956</td>\n",
       "      <td>0.0</td>\n",
       "      <td>0.473</td>\n",
       "      <td>0.619</td>\n",
       "      <td>138.908</td>\n",
       "      <td>rock</td>\n",
       "    </tr>\n",
       "    <tr>\n",
       "      <th>91997</th>\n",
       "      <td>0.44</td>\n",
       "      <td>0.838</td>\n",
       "      <td>-6.196</td>\n",
       "      <td>0.0423</td>\n",
       "      <td>0.0956</td>\n",
       "      <td>0.0</td>\n",
       "      <td>0.473</td>\n",
       "      <td>0.619</td>\n",
       "      <td>138.908</td>\n",
       "      <td>rock</td>\n",
       "    </tr>\n",
       "    <tr>\n",
       "      <th>91998</th>\n",
       "      <td>0.44</td>\n",
       "      <td>0.838</td>\n",
       "      <td>-6.196</td>\n",
       "      <td>0.0423</td>\n",
       "      <td>0.0956</td>\n",
       "      <td>0.0</td>\n",
       "      <td>0.473</td>\n",
       "      <td>0.619</td>\n",
       "      <td>138.908</td>\n",
       "      <td>rock</td>\n",
       "    </tr>\n",
       "    <tr>\n",
       "      <th>91999</th>\n",
       "      <td>0.44</td>\n",
       "      <td>0.838</td>\n",
       "      <td>-6.196</td>\n",
       "      <td>0.0423</td>\n",
       "      <td>0.0956</td>\n",
       "      <td>0.0</td>\n",
       "      <td>0.473</td>\n",
       "      <td>0.619</td>\n",
       "      <td>138.908</td>\n",
       "      <td>rock</td>\n",
       "    </tr>\n",
       "  </tbody>\n",
       "</table>\n",
       "</div>"
      ],
      "text/plain": [
       "       danceability  energy  loudness  speechiness  acousticness  \\\n",
       "91995          0.44   0.838    -6.196       0.0423        0.0956   \n",
       "91996          0.44   0.838    -6.196       0.0423        0.0956   \n",
       "91997          0.44   0.838    -6.196       0.0423        0.0956   \n",
       "91998          0.44   0.838    -6.196       0.0423        0.0956   \n",
       "91999          0.44   0.838    -6.196       0.0423        0.0956   \n",
       "\n",
       "       instrumentalness  liveness  valence    tempo genre  \n",
       "91995               0.0     0.473    0.619  138.908  rock  \n",
       "91996               0.0     0.473    0.619  138.908  rock  \n",
       "91997               0.0     0.473    0.619  138.908  rock  \n",
       "91998               0.0     0.473    0.619  138.908  rock  \n",
       "91999               0.0     0.473    0.619  138.908  rock  "
      ]
     },
     "execution_count": 225,
     "metadata": {},
     "output_type": "execute_result"
    }
   ],
   "source": [
    "df.tail()"
   ]
  },
  {
   "cell_type": "code",
   "execution_count": 194,
   "id": "5fcf7f3f-8d6e-45fa-bb44-0ee72481ffc2",
   "metadata": {},
   "outputs": [
    {
     "data": {
      "text/plain": [
       "Index(['danceability', 'energy', 'loudness', 'speechiness', 'acousticness',\n",
       "       'instrumentalness', 'liveness', 'valence', 'tempo', 'genre'],\n",
       "      dtype='object')"
      ]
     },
     "execution_count": 194,
     "metadata": {},
     "output_type": "execute_result"
    }
   ],
   "source": [
    "df.columns"
   ]
  },
  {
   "cell_type": "code",
   "execution_count": 195,
   "id": "d3bbd844-a621-41f1-987e-5058c48c4957",
   "metadata": {},
   "outputs": [],
   "source": [
    "X=df.drop(['genre'],axis=1)"
   ]
  },
  {
   "cell_type": "code",
   "execution_count": 196,
   "id": "cb02d653-e452-401d-ad15-1df9f63a9857",
   "metadata": {},
   "outputs": [],
   "source": [
    "y=df['genre']"
   ]
  },
  {
   "cell_type": "code",
   "execution_count": 197,
   "id": "4acb2d97-627e-49cd-b9d4-84b172f4cf8a",
   "metadata": {},
   "outputs": [],
   "source": [
    "le=LabelEncoder()"
   ]
  },
  {
   "cell_type": "code",
   "execution_count": 198,
   "id": "9cf0251b-c584-42d5-b6b8-5b72a5be9da7",
   "metadata": {},
   "outputs": [],
   "source": [
    "y=le.fit_transform(y)"
   ]
  },
  {
   "cell_type": "code",
   "execution_count": 224,
   "id": "5e12db5e-ffbc-491b-b03b-c61f6ef57e78",
   "metadata": {},
   "outputs": [
    {
     "data": {
      "text/plain": [
       "array(['classical', 'country', 'dance', 'disco', 'electronic', 'hip-hop',\n",
       "       'house', 'jazz', 'metal', 'pop', 'r-n-b', 'rock'], dtype=object)"
      ]
     },
     "execution_count": 224,
     "metadata": {},
     "output_type": "execute_result"
    }
   ],
   "source": [
    "le.classes_"
   ]
  },
  {
   "cell_type": "code",
   "execution_count": 199,
   "id": "99f7c3c3-2b7c-4b75-aae7-b80ffa34c6ba",
   "metadata": {},
   "outputs": [],
   "source": [
    "X_train,X_test,y_train,y_test=train_test_split(X,y,test_size=0.2)"
   ]
  },
  {
   "cell_type": "code",
   "execution_count": 200,
   "id": "586eaf30-1a05-4c54-ad28-f198d21ac46e",
   "metadata": {},
   "outputs": [],
   "source": [
    "rf=RandomForestClassifier()"
   ]
  },
  {
   "cell_type": "code",
   "execution_count": 201,
   "id": "5f7286eb-10cf-4a02-a12a-6cca3c310acf",
   "metadata": {},
   "outputs": [
    {
     "data": {
      "text/html": [
       "<style>#sk-container-id-11 {color: black;}#sk-container-id-11 pre{padding: 0;}#sk-container-id-11 div.sk-toggleable {background-color: white;}#sk-container-id-11 label.sk-toggleable__label {cursor: pointer;display: block;width: 100%;margin-bottom: 0;padding: 0.3em;box-sizing: border-box;text-align: center;}#sk-container-id-11 label.sk-toggleable__label-arrow:before {content: \"▸\";float: left;margin-right: 0.25em;color: #696969;}#sk-container-id-11 label.sk-toggleable__label-arrow:hover:before {color: black;}#sk-container-id-11 div.sk-estimator:hover label.sk-toggleable__label-arrow:before {color: black;}#sk-container-id-11 div.sk-toggleable__content {max-height: 0;max-width: 0;overflow: hidden;text-align: left;background-color: #f0f8ff;}#sk-container-id-11 div.sk-toggleable__content pre {margin: 0.2em;color: black;border-radius: 0.25em;background-color: #f0f8ff;}#sk-container-id-11 input.sk-toggleable__control:checked~div.sk-toggleable__content {max-height: 200px;max-width: 100%;overflow: auto;}#sk-container-id-11 input.sk-toggleable__control:checked~label.sk-toggleable__label-arrow:before {content: \"▾\";}#sk-container-id-11 div.sk-estimator input.sk-toggleable__control:checked~label.sk-toggleable__label {background-color: #d4ebff;}#sk-container-id-11 div.sk-label input.sk-toggleable__control:checked~label.sk-toggleable__label {background-color: #d4ebff;}#sk-container-id-11 input.sk-hidden--visually {border: 0;clip: rect(1px 1px 1px 1px);clip: rect(1px, 1px, 1px, 1px);height: 1px;margin: -1px;overflow: hidden;padding: 0;position: absolute;width: 1px;}#sk-container-id-11 div.sk-estimator {font-family: monospace;background-color: #f0f8ff;border: 1px dotted black;border-radius: 0.25em;box-sizing: border-box;margin-bottom: 0.5em;}#sk-container-id-11 div.sk-estimator:hover {background-color: #d4ebff;}#sk-container-id-11 div.sk-parallel-item::after {content: \"\";width: 100%;border-bottom: 1px solid gray;flex-grow: 1;}#sk-container-id-11 div.sk-label:hover label.sk-toggleable__label {background-color: #d4ebff;}#sk-container-id-11 div.sk-serial::before {content: \"\";position: absolute;border-left: 1px solid gray;box-sizing: border-box;top: 0;bottom: 0;left: 50%;z-index: 0;}#sk-container-id-11 div.sk-serial {display: flex;flex-direction: column;align-items: center;background-color: white;padding-right: 0.2em;padding-left: 0.2em;position: relative;}#sk-container-id-11 div.sk-item {position: relative;z-index: 1;}#sk-container-id-11 div.sk-parallel {display: flex;align-items: stretch;justify-content: center;background-color: white;position: relative;}#sk-container-id-11 div.sk-item::before, #sk-container-id-11 div.sk-parallel-item::before {content: \"\";position: absolute;border-left: 1px solid gray;box-sizing: border-box;top: 0;bottom: 0;left: 50%;z-index: -1;}#sk-container-id-11 div.sk-parallel-item {display: flex;flex-direction: column;z-index: 1;position: relative;background-color: white;}#sk-container-id-11 div.sk-parallel-item:first-child::after {align-self: flex-end;width: 50%;}#sk-container-id-11 div.sk-parallel-item:last-child::after {align-self: flex-start;width: 50%;}#sk-container-id-11 div.sk-parallel-item:only-child::after {width: 0;}#sk-container-id-11 div.sk-dashed-wrapped {border: 1px dashed gray;margin: 0 0.4em 0.5em 0.4em;box-sizing: border-box;padding-bottom: 0.4em;background-color: white;}#sk-container-id-11 div.sk-label label {font-family: monospace;font-weight: bold;display: inline-block;line-height: 1.2em;}#sk-container-id-11 div.sk-label-container {text-align: center;}#sk-container-id-11 div.sk-container {/* jupyter's `normalize.less` sets `[hidden] { display: none; }` but bootstrap.min.css set `[hidden] { display: none !important; }` so we also need the `!important` here to be able to override the default hidden behavior on the sphinx rendered scikit-learn.org. See: https://github.com/scikit-learn/scikit-learn/issues/21755 */display: inline-block !important;position: relative;}#sk-container-id-11 div.sk-text-repr-fallback {display: none;}</style><div id=\"sk-container-id-11\" class=\"sk-top-container\"><div class=\"sk-text-repr-fallback\"><pre>RandomForestClassifier()</pre><b>In a Jupyter environment, please rerun this cell to show the HTML representation or trust the notebook. <br />On GitHub, the HTML representation is unable to render, please try loading this page with nbviewer.org.</b></div><div class=\"sk-container\" hidden><div class=\"sk-item\"><div class=\"sk-estimator sk-toggleable\"><input class=\"sk-toggleable__control sk-hidden--visually\" id=\"sk-estimator-id-11\" type=\"checkbox\" checked><label for=\"sk-estimator-id-11\" class=\"sk-toggleable__label sk-toggleable__label-arrow\">RandomForestClassifier</label><div class=\"sk-toggleable__content\"><pre>RandomForestClassifier()</pre></div></div></div></div></div>"
      ],
      "text/plain": [
       "RandomForestClassifier()"
      ]
     },
     "execution_count": 201,
     "metadata": {},
     "output_type": "execute_result"
    }
   ],
   "source": [
    "rf.fit(X_train,y_train)"
   ]
  },
  {
   "cell_type": "code",
   "execution_count": 218,
   "id": "75c29d16-71b3-4a90-93b0-2ef7f77b3197",
   "metadata": {},
   "outputs": [
    {
     "data": {
      "text/plain": [
       "array(['danceability', 'energy', 'loudness', 'speechiness',\n",
       "       'acousticness', 'instrumentalness', 'liveness', 'valence', 'tempo'],\n",
       "      dtype=object)"
      ]
     },
     "execution_count": 218,
     "metadata": {},
     "output_type": "execute_result"
    }
   ],
   "source": [
    "rf.feature_names_in_"
   ]
  },
  {
   "cell_type": "code",
   "execution_count": 202,
   "id": "1263fbbd-51fb-490c-bc1c-c735d15ebf03",
   "metadata": {},
   "outputs": [],
   "source": [
    "y_pred=rf.predict_proba(X_test)"
   ]
  },
  {
   "cell_type": "code",
   "execution_count": 203,
   "id": "f1201ce8-640a-4fd2-949b-fe062066e827",
   "metadata": {},
   "outputs": [
    {
     "data": {
      "text/plain": [
       "0.9133214800712102"
      ]
     },
     "execution_count": 203,
     "metadata": {},
     "output_type": "execute_result"
    }
   ],
   "source": [
    "roc_auc_score(y_test,y_pred,multi_class='ovr')"
   ]
  },
  {
   "cell_type": "code",
   "execution_count": null,
   "id": "d3948046-833e-47fc-afce-afaa84e7a4b1",
   "metadata": {},
   "outputs": [],
   "source": [
    "0.44\t0.838\t-6.196\t0.0423\t0.0956\t0.0\t0.473\t0.619\t138.908"
   ]
  },
  {
   "cell_type": "code",
   "execution_count": 226,
   "id": "09145a18-1caf-4165-81d1-01c40454e3ee",
   "metadata": {},
   "outputs": [],
   "source": [
    "new_data_point_df = pd.DataFrame({\n",
    "    'danceability': 0.44,\n",
    "     'energy': 0.838,\n",
    "    'loudness': -6.196,\n",
    "    'speechiness': 0.0423,\n",
    "    'acousticness': 0.0956,\n",
    "    'instrumentalness': 0.0,\n",
    "    'liveness': 0.473,\n",
    "    'valence': 0.619,\n",
    "    'tempo': 138.908\n",
    "}, index=[0])"
   ]
  },
  {
   "cell_type": "code",
   "execution_count": 227,
   "id": "81ed142d-48a4-431a-9c45-87a36c8860b8",
   "metadata": {},
   "outputs": [
    {
     "data": {
      "text/plain": [
       "11"
      ]
     },
     "execution_count": 227,
     "metadata": {},
     "output_type": "execute_result"
    }
   ],
   "source": [
    "rf.predict(new_data_point_df)[0]"
   ]
  },
  {
   "cell_type": "code",
   "execution_count": null,
   "id": "e418635e-a1a3-4253-936a-ea9908ddf57e",
   "metadata": {},
   "outputs": [],
   "source": []
  }
 ],
 "metadata": {
  "kernelspec": {
   "display_name": "Python 3 (ipykernel)",
   "language": "python",
   "name": "python3"
  },
  "language_info": {
   "codemirror_mode": {
    "name": "ipython",
    "version": 3
   },
   "file_extension": ".py",
   "mimetype": "text/x-python",
   "name": "python",
   "nbconvert_exporter": "python",
   "pygments_lexer": "ipython3",
   "version": "3.12.1"
  }
 },
 "nbformat": 4,
 "nbformat_minor": 5
}
